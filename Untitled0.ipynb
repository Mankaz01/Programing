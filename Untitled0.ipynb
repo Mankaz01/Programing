{
  "nbformat": 4,
  "nbformat_minor": 0,
  "metadata": {
    "colab": {
      "provenance": [],
      "authorship_tag": "ABX9TyP4l1qlLMb2fa8dh27+YyXd",
      "include_colab_link": true
    },
    "kernelspec": {
      "name": "python3",
      "display_name": "Python 3"
    },
    "language_info": {
      "name": "python"
    }
  },
  "cells": [
    {
      "cell_type": "markdown",
      "metadata": {
        "id": "view-in-github",
        "colab_type": "text"
      },
      "source": [
        "<a href=\"https://colab.research.google.com/github/Mankaz01/Programing/blob/main/Untitled0.ipynb\" target=\"_parent\"><img src=\"https://colab.research.google.com/assets/colab-badge.svg\" alt=\"Open In Colab\"/></a>"
      ]
    },
    {
      "cell_type": "code",
      "execution_count": 19,
      "metadata": {
        "id": "5tXijY7JJQQq"
      },
      "outputs": [],
      "source": [
        "class Contract:\n",
        "  def __init__(self,monthlyHours, standardCharge, excessRate, discountRate):\n",
        "    if monthlyHours < 0 or standardCharge < 0 or excessRate < 0 or discountRate < 0:\n",
        "      raise ValueError(\"All values must be positive\")\n",
        "    self.monthlyHours = monthlyHours\n",
        "    self.standardCharge = standardCharge\n",
        "    self.excessRate = excessRate\n",
        "    self.discountRate = discountRate\n",
        "\n",
        "  def computeBill(self, hoursDelivered):\n",
        "    if hoursDelivered < 0:\n",
        "      raise ValueError(\"Hours delivered must be positive\")\n",
        "    bill = self.standardCharge\n",
        "    if hoursDelivered > self.monthlyHours:\n",
        "      excess = hoursDelivered - self.monthlyHours\n",
        "      bill += excess * self.excessRate\n",
        "    elif hoursDelivered < self.monthlyHours:\n",
        "      short = self.monthlyHours - hoursDelivered\n",
        "      bill -= short * self.discountRate\n",
        "    return max(bill,0)\n",
        "\n",
        "  def computeTotalDue(self,billAmount,outlay):\n",
        "    if billAmount < 0 or outlay < 0:\n",
        "      raise ValueError(\"All values must be positive\")\n",
        "    vat = billAmount * 0.135\n",
        "    totalAmount = billAmount + vat + outlay\n",
        "    return totalAmount\n",
        "\n",
        "\n",
        ""
      ]
    },
    {
      "cell_type": "code",
      "source": [
        "c1 = Contract(20, 3500, 180, 75)\n",
        "\n",
        "print(c1.computeBill(22))\n",
        "print(c1.computeBill(17))\n",
        "\n",
        "print(c1.computeTotalDue(2000, 500))"
      ],
      "metadata": {
        "colab": {
          "base_uri": "https://localhost:8080/"
        },
        "id": "uYjVyPl4jBQ1",
        "outputId": "0367d111-6102-4ca0-c534-5b309bc1f700"
      },
      "execution_count": 23,
      "outputs": [
        {
          "output_type": "stream",
          "name": "stdout",
          "text": [
            "3860\n",
            "3275\n",
            "2770.0\n"
          ]
        }
      ]
    },
    {
      "cell_type": "code",
      "source": [
        "import unittest\n",
        "\n",
        "class testContract(unittest.TestCase):\n",
        "  def setUp(self):\n",
        "    self.contract = Contract(20,3500,180,75)\n",
        "\n",
        "\n",
        "  #Test : Compute bill not negative\n",
        "  def test_computeBill_no_negative(self):\n",
        "        self.assertEqual(self.contract.computeBill(0), 3500 - 20 * 75)\n",
        "\n",
        "  #Test : Compute bill to raises ValueError for negative hoursDelivered\n",
        "  def test_computeBill_negative_hours(self):\n",
        "        with self.assertRaises(ValueError):\n",
        "            self.contract.computeBill(-5)\n",
        "\n",
        "  #Test : computeTotalDue raises ValueError for negative inputs\n",
        "  def test_computeTotalDue_negative_values(self):\n",
        "        with self.assertRaises(ValueError):\n",
        "            self.contract.computeTotalDue(-2000, 500)\n",
        "        with self.assertRaises(ValueError):\n",
        "            self.contract.computeTotalDue(2000, -500)\n",
        "\n",
        "unittest.main(argv=[''], verbosity=2, exit=False)"
      ],
      "metadata": {
        "colab": {
          "base_uri": "https://localhost:8080/"
        },
        "id": "OLkNXcPwjfbv",
        "outputId": "5fa97039-7daa-41d2-8362-05d169acb478"
      },
      "execution_count": 30,
      "outputs": [
        {
          "output_type": "stream",
          "name": "stderr",
          "text": [
            "test_computeBill_negative_hours (__main__.testContract) ... ok\n",
            "test_computeBill_no_negative (__main__.testContract) ... ok\n",
            "test_computeTotalDue_negative_values (__main__.testContract) ... ok\n",
            "\n",
            "----------------------------------------------------------------------\n",
            "Ran 3 tests in 0.011s\n",
            "\n",
            "OK\n"
          ]
        },
        {
          "output_type": "execute_result",
          "data": {
            "text/plain": [
              "<unittest.main.TestProgram at 0x795ce59e2d40>"
            ]
          },
          "metadata": {},
          "execution_count": 30
        }
      ]
    }
  ]
}